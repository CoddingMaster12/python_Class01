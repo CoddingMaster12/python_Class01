{
  "cells": [
    {
      "cell_type": "markdown",
      "metadata": {
        "id": "view-in-github",
        "colab_type": "text"
      },
      "source": [
        "<a href=\"https://colab.research.google.com/github/CoddingMaster12/python_Class01/blob/main/Python_Class04_(Assignment).ipynb\" target=\"_parent\"><img src=\"https://colab.research.google.com/assets/colab-badge.svg\" alt=\"Open In Colab\"/></a>"
      ]
    },
    {
      "cell_type": "markdown",
      "metadata": {
        "id": "SWRJYkocxN3z"
      },
      "source": [
        "\n",
        "\n",
        "\n",
        "\n",
        "# # Dynamic Math Operations Functions\n",
        "\n",
        "\n",
        "\n",
        "\n"
      ]
    },
    {
      "cell_type": "code",
      "execution_count": null,
      "metadata": {
        "colab": {
          "base_uri": "https://localhost:8080/"
        },
        "id": "wefVXrAWwnC-",
        "outputId": "d80dfc43-8c31-43d1-ba05-ab8f51cc6b3c"
      },
      "outputs": [
        {
          "output_type": "stream",
          "name": "stdout",
          "text": [
            "9\n",
            "6\n",
            "14\n",
            "3.0\n"
          ]
        }
      ],
      "source": [
        "# Funtion operation methode below\n",
        "def add(a, b=3):\n",
        "    return a + b\n",
        "print(add(4,5))\n",
        "\n",
        "def subtract(a, b):\n",
        "    return a - b\n",
        "print(subtract(10, 4))\n",
        "\n",
        "def multiply(a, b):\n",
        "    return a * b\n",
        "print(multiply(7, 2))\n",
        "\n",
        "def divide(a, b):\n",
        "    return a / b\n",
        "print(divide(9, 3))"
      ]
    },
    {
      "cell_type": "markdown",
      "metadata": {
        "id": "8A90yNmi8WnI"
      },
      "source": [
        "# # Calculator Function\n"
      ]
    },
    {
      "cell_type": "code",
      "execution_count": null,
      "metadata": {
        "colab": {
          "background_save": true,
          "base_uri": "https://localhost:8080/"
        },
        "id": "-i1ACGUvQjfF",
        "outputId": "4da35b53-e8b8-4dca-d36e-b75c3ed9c00c"
      },
      "outputs": [
        {
          "name": "stdout",
          "output_type": "stream",
          "text": [
            "Select an operation:\n",
            "1. Addition (+)\n",
            "2. Subtraction (-)\n",
            "3. Multiplication (*)\n",
            "4. Division (/)\n"
          ]
        }
      ],
      "source": [
        "\n",
        "def calculator():\n",
        "    \"\"\"\n",
        "    A simple calculator that uses the defined functions.\n",
        "    \"\"\"\n",
        "    print(\"Select an operation:\")\n",
        "    print(\"1. Addition (+)\")\n",
        "    print(\"2. Subtraction (-)\")\n",
        "    print(\"3. Multiplication (*)\")\n",
        "    print(\"4. Division (/)\")\n",
        "\n",
        "    choice = (input(\"Select the number of the operation (1/2/3/4): \"))\n",
        "\n",
        "    if choice in (\"1\", \"2\", \"3\", \"4\"):\n",
        "     try:\n",
        "        num1 = float (input(\"Enter the first number: \"))\n",
        "        num2 = float (input(\"Enter the second number: \"))\n",
        "\n",
        "        if choice == \"1\":\n",
        "            print(f\"Result:  {add(num1, num2)}\")\n",
        "        elif choice == \"2\":\n",
        "            print(f\"Result:  {subtract(num1, num2)}\")\n",
        "        elif choice == \"3\":\n",
        "            print(f\"Result:  {multiply(num1, num2)}\")\n",
        "        elif choice == \"4\":\n",
        "            print(f\"Result:  {divide(num1, num2)}\")\n",
        "\n",
        "     except ValueError:\n",
        "            print(\"Invalid input. Please enter numeric values.\")\n",
        "    else:\n",
        "       print(\"Invalid choice. Please select 1, 2, 3, or 4.\")\n",
        "\n",
        "# Run the calculator\n",
        "calculator()"
      ]
    },
    {
      "cell_type": "code",
      "execution_count": null,
      "metadata": {
        "id": "PRG35AINFMYJ"
      },
      "outputs": [],
      "source": [
        "def greet(name, message=\"1.Hello\"):\n",
        "    print(message, name)\n",
        "\n",
        "greet(\"Zeeshan\")  # Output: Hello Zeeshan\n",
        "greet(\"Ali\", \"Hi!\")  # Output: Hi Ali\n"
      ]
    },
    {
      "cell_type": "code",
      "execution_count": null,
      "metadata": {
        "id": "ixr2YJSSR5RR"
      },
      "outputs": [],
      "source": [
        "def information_technology():\n",
        "    for i in range(1,11):\n",
        "        print(i)\n",
        "\n",
        "information_technology()"
      ]
    }
  ],
  "metadata": {
    "colab": {
      "provenance": [],
      "authorship_tag": "ABX9TyP+cizvm/UfnskBaQMkDle1",
      "include_colab_link": true
    },
    "kernelspec": {
      "display_name": "Python 3",
      "name": "python3"
    },
    "language_info": {
      "name": "python"
    }
  },
  "nbformat": 4,
  "nbformat_minor": 0
}