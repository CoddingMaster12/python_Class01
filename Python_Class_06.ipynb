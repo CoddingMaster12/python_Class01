{
  "nbformat": 4,
  "nbformat_minor": 0,
  "metadata": {
    "colab": {
      "provenance": [],
      "authorship_tag": "ABX9TyOsg5bfWZwGqiOBHroR/nc6",
      "include_colab_link": true
    },
    "kernelspec": {
      "name": "python3",
      "display_name": "Python 3"
    },
    "language_info": {
      "name": "python"
    }
  },
  "cells": [
    {
      "cell_type": "markdown",
      "metadata": {
        "id": "view-in-github",
        "colab_type": "text"
      },
      "source": [
        "<a href=\"https://colab.research.google.com/github/CoddingMaster12/python_Class01/blob/main/Python_Class_06.ipynb\" target=\"_parent\"><img src=\"https://colab.research.google.com/assets/colab-badge.svg\" alt=\"Open In Colab\"/></a>"
      ]
    },
    {
      "cell_type": "markdown",
      "source": [
        "#1. python set method"
      ],
      "metadata": {
        "id": "9pEy5ENr_7gx"
      }
    },
    {
      "cell_type": "code",
      "execution_count": null,
      "metadata": {
        "colab": {
          "base_uri": "https://localhost:8080/"
        },
        "id": "84yeJtrVytDJ",
        "outputId": "60d37f3a-a3da-44dc-a536-59264a16cc9e"
      },
      "outputs": [
        {
          "output_type": "stream",
          "name": "stdout",
          "text": [
            "Enter a string: 5\n",
            "{1, 2, 3, 4}\n",
            "{1, 3, 4}\n",
            "{1, 3, 4}\n",
            "1\n",
            "{3, 4}\n",
            "set()\n",
            "{1, 2, 3, 4, 5}\n",
            "{3}\n",
            "{1, 2}\n",
            "{1, 2, 4, 5}\n",
            "True\n",
            "True\n",
            "False\n",
            "{1, 2, 3}\n"
          ]
        }
      ],
      "source": [
        "# prompt: python set method\n",
        "\n",
        "# Creating a set\n",
        "my_set = {1, 2, 3}\n",
        "\n",
        "# 1. Adding elements\n",
        "my_set.add(4)\n",
        "print(my_set)  # Output: {1, 2, 3, 4}\n",
        "\n",
        "# 2. Removing elements\n",
        "my_set.remove(2) # Raises KeyError if element not found\n",
        "print(my_set)  # Output: {1, 3, 4}\n",
        "\n",
        "my_set.discard(5) # Doesn't raise error if element not found\n",
        "print(my_set)\n",
        "\n",
        "# 3. Removing and returning an arbitrary element\n",
        "popped_element = my_set.pop()\n",
        "print(popped_element)  # Output: (random element from the set)\n",
        "print(my_set)\n",
        "\n",
        "# 4. Clearing the set\n",
        "my_set.clear()\n",
        "print(my_set)  # Output: set()\n",
        "\n",
        "\n",
        "# 5. Union of sets\n",
        "set1 = {1, 2, 3}\n",
        "set2 = {3, 4, 5}\n",
        "union_set = set1.union(set2) # or set1 | set2\n",
        "print(union_set) # Output: {1, 2, 3, 4, 5}\n",
        "\n",
        "# 6. Intersection of sets\n",
        "intersection_set = set1.intersection(set2) # or set1 & set2\n",
        "print(intersection_set) # Output: {3}\n",
        "\n",
        "# 7. Difference of sets\n",
        "difference_set = set1.difference(set2) # or set1 - set2\n",
        "print(difference_set) # Output: {1, 2}\n",
        "\n",
        "# 8. Symmetric difference of sets (elements in either set, but not both)\n",
        "symmetric_difference_set = set1.symmetric_difference(set2) # or set1 ^ set2\n",
        "print(symmetric_difference_set) # Output: {1, 2, 4, 5}\n",
        "\n",
        "\n",
        "# 9. Checking for subset and superset\n",
        "set3 = {1, 2}\n",
        "print(set3.issubset(set1))  # Output: True\n",
        "print(set1.issuperset(set3))  # Output: True\n",
        "\n",
        "# 10. Check if sets are disjoint (no common elements)\n",
        "print(set1.isdisjoint(set2)) # Output: False\n",
        "\n",
        "\n",
        "# 11. Copying a set\n",
        "set4 = set1.copy()\n",
        "print(set4) # Output: {1, 2, 3}\n"
      ]
    },
    {
      "cell_type": "markdown",
      "source": [
        "#2. local and global veriable"
      ],
      "metadata": {
        "id": "060KUylx_3yz"
      }
    },
    {
      "cell_type": "code",
      "source": [
        "# prompt: local vs global veraiable\n",
        "\n",
        "# #2. local and global veriable\n",
        "\n",
        "# Global variable\n",
        "global_var = 10\n",
        "\n",
        "def my_function():\n",
        "  # Local variable (with the same name as the global variable)\n",
        "  global_var = 5  # This creates a new local variable\n",
        "  print(\"Inside the function:\", global_var)  # Output: 5\n",
        "\n",
        "my_function()\n",
        "print(\"Outside the function:\", global_var)  # Output: 10 (the global variable is unchanged)\n",
        "\n",
        "\n",
        "def my_function_global():\n",
        "    global global_var # Use the global keyword to modify the global variable\n",
        "    global_var = 5\n",
        "    print(\"Inside the function:\", global_var)\n",
        "\n",
        "\n",
        "my_function_global()\n",
        "print(\"Outside the function:\", global_var) # Output: 5 (the global variable is modified)\n"
      ],
      "metadata": {
        "id": "6jQ7B8Nw_lhp",
        "colab": {
          "base_uri": "https://localhost:8080/"
        },
        "outputId": "5c9c325b-ab1f-491d-ae1e-d4bb33ad90f1"
      },
      "execution_count": null,
      "outputs": [
        {
          "output_type": "stream",
          "name": "stdout",
          "text": [
            "Inside the function: 5\n",
            "Outside the function: 10\n",
            "Inside the function: 5\n",
            "Outside the function: 5\n"
          ]
        }
      ]
    },
    {
      "cell_type": "markdown",
      "source": [
        "#3. try and except"
      ],
      "metadata": {
        "id": "e7dZE6F0Ad3D"
      }
    },
    {
      "cell_type": "code",
      "source": [
        "# prompt: just example of try and except only\n",
        "user = int(input(\"Enter a number: \"))\n",
        "try:\n",
        "  # Code that might raise an exception\n",
        "  result = 10 / user\n",
        "  print(\"Result:\", result)\n",
        "except ZeroDivisionError:\n",
        "  print(\"Division by zero error occurred!\")\n",
        "except Exception as e:\n",
        "  print(f\"An unexpected error occurred: {e}\")\n",
        "else:\n",
        "  print(\"No errors occurred.\")\n",
        "finally:\n",
        "  print(\"This always executes.\")\n"
      ],
      "metadata": {
        "colab": {
          "base_uri": "https://localhost:8080/"
        },
        "id": "QvF0vmZSApGm",
        "outputId": "9b7d2934-ab17-42cd-eb7d-24f079fd2cd2"
      },
      "execution_count": null,
      "outputs": [
        {
          "output_type": "stream",
          "name": "stdout",
          "text": [
            "Enter a number: 40\n",
            "Result: 0.25\n",
            "No errors occurred.\n",
            "This always executes.\n"
          ]
        }
      ]
    },
    {
      "cell_type": "markdown",
      "source": [
        "#4. diffirent docstring example"
      ],
      "metadata": {
        "id": "lLyF8uDoBiQ_"
      }
    },
    {
      "cell_type": "code",
      "source": [
        "# prompt: docstring example\n",
        "\n",
        "def my_function():\n",
        "  \"\"\"This is a docstring example.\n",
        "\n",
        "  This function demonstrates how to write a docstring in Python.\n",
        "  Docstrings are used to document your code and explain what a function or class does.\n",
        "  \"\"\"\n",
        "  print(\"Hello from my_function!\")\n",
        "\n",
        "# Accessing the docstring\n",
        "print(my_function.__doc__)\n",
        "\n",
        "# help() to see the docstring:\n",
        "help(my_function)\n"
      ],
      "metadata": {
        "colab": {
          "base_uri": "https://localhost:8080/"
        },
        "id": "TG6nL8DXTjlJ",
        "outputId": "3f87b87e-9b62-42dc-8598-92e7eb593fe6"
      },
      "execution_count": null,
      "outputs": [
        {
          "output_type": "stream",
          "name": "stdout",
          "text": [
            "This is a docstring example.\n",
            "\n",
            "  This function demonstrates how to write a docstring in Python.\n",
            "  Docstrings are used to document your code and explain what a function or class does.\n",
            "  \n",
            "Help on function my_function in module __main__:\n",
            "\n",
            "my_function()\n",
            "    This is a docstring example.\n",
            "    \n",
            "    This function demonstrates how to write a docstring in Python.\n",
            "    Docstrings are used to document your code and explain what a function or class does.\n",
            "\n"
          ]
        }
      ]
    }
  ]
}