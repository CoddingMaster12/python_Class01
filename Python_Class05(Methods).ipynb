{
  "nbformat": 4,
  "nbformat_minor": 0,
  "metadata": {
    "colab": {
      "provenance": [],
      "authorship_tag": "ABX9TyMn6oH0RodQY94NRA39MOoR",
      "include_colab_link": true
    },
    "kernelspec": {
      "name": "python3",
      "display_name": "Python 3"
    },
    "language_info": {
      "name": "python"
    }
  },
  "cells": [
    {
      "cell_type": "markdown",
      "metadata": {
        "id": "view-in-github",
        "colab_type": "text"
      },
      "source": [
        "<a href=\"https://colab.research.google.com/github/CoddingMaster12/python_Class01/blob/main/Python_Class05(Methods).ipynb\" target=\"_parent\"><img src=\"https://colab.research.google.com/assets/colab-badge.svg\" alt=\"Open In Colab\"/></a>"
      ]
    },
    {
      "cell_type": "markdown",
      "source": [
        "# Function Method"
      ],
      "metadata": {
        "id": "7wZsR-qbjIZE"
      }
    },
    {
      "cell_type": "code",
      "source": [
        "def my_class(a, b):\n",
        " return a+b\n",
        "\n",
        " print(5,6)"
      ],
      "metadata": {
        "id": "RgFU3TxvlZm3"
      },
      "execution_count": null,
      "outputs": []
    },
    {
      "cell_type": "markdown",
      "source": [
        "# String Method"
      ],
      "metadata": {
        "id": "PBF-ggs07A03"
      }
    },
    {
      "cell_type": "code",
      "source": [
        "#Methods Todays Class\n",
        "\n",
        "name:str = \"i am pakistani\"\n",
        "print(type(name))\n",
        "name1:str = \"name.encode\"\n",
        "print(name1.count)\n",
        "print(name.count(\"s\"))\n",
        "# print(len(name))\n",
        "# print(name.find(\"k\"))\n",
        "# print(name1)\n",
        "# print(name)\n",
        "\n",
        "\n",
        "# name: str = \"My name is Abdul Basit My natonality is Pakistani\"\n",
        "# name1 = name.capitalize()\n",
        "# print(name1)\n",
        "# print(name.replace(\"Pakistani\",\"Suddani\").upper())\n"
      ],
      "metadata": {
        "colab": {
          "base_uri": "https://localhost:8080/"
        },
        "id": "8-OcyM9jFciT",
        "outputId": "2dc3e584-967a-4c7e-eb14-119a75b7d1d9"
      },
      "execution_count": null,
      "outputs": [
        {
          "output_type": "stream",
          "name": "stdout",
          "text": [
            "<class 'str'>\n",
            "<built-in method count of str object at 0x7a6f80d80970>\n",
            "1\n"
          ]
        }
      ]
    },
    {
      "cell_type": "markdown",
      "source": [
        "# List Method"
      ],
      "metadata": {
        "id": "_kV0w-2ILWM_"
      }
    },
    {
      "cell_type": "code",
      "source": [
        "my_list = ['zeeshan', 'Ali', \"Ahsan\",]\n",
        "# append method add value in last\n",
        "my_list.append(\"Munna Bhai\")\n",
        "print(my_list)\n",
        "\n",
        "# insert method add index in any position\n",
        "my_list.insert(0,'Sir Zia')\n",
        "print(my_list)\n",
        "\n",
        "# reverse method reverse the list like 1 to 10 into 10 to 1\n",
        "my_list.reverse()\n",
        "print(my_list)\n",
        "\n",
        "# pop delete last value in your list\n",
        "my_list.pop()\n",
        "print(my_list)\n",
        "\n",
        "# remove specific value from list\n",
        "my_list.remove('Ahsan')\n",
        "print(my_list)\n",
        "\n",
        "# sort is used to sort the list in ascending order or descending order\n",
        "my_list.sort()\n",
        "print(my_list)\n",
        "# extend method add two list in last\n",
        "new_teachers = ['Abdullah', 'Ghous']\n",
        "print('Old List', my_list)\n",
        "my_list.extend(new_teachers)\n",
        "print('Updated List', new_teachers)\n",
        "\n"
      ],
      "metadata": {
        "colab": {
          "base_uri": "https://localhost:8080/"
        },
        "id": "aYMnMY69LI2C",
        "outputId": "db24a4ef-60c1-4eed-ff33-e31e4b8bccca"
      },
      "execution_count": null,
      "outputs": [
        {
          "output_type": "stream",
          "name": "stdout",
          "text": [
            "['zeeshan', 'Ali', 'Ahsan', 'Munna Bhai']\n",
            "['Sir Zia', 'zeeshan', 'Ali', 'Ahsan', 'Munna Bhai']\n",
            "['Munna Bhai', 'Ahsan', 'Ali', 'zeeshan', 'Sir Zia']\n",
            "['Munna Bhai', 'Ahsan', 'Ali', 'zeeshan']\n",
            "['Munna Bhai', 'Ali', 'zeeshan']\n",
            "['Ali', 'Munna Bhai', 'zeeshan']\n",
            "Old List ['Ali', 'Munna Bhai', 'zeeshan']\n",
            "Updated List ['Abdullah', 'Ghous']\n"
          ]
        }
      ]
    },
    {
      "cell_type": "markdown",
      "source": [
        "# Dictionary Method"
      ],
      "metadata": {
        "id": "-8tKYMIWLeVB"
      }
    },
    {
      "cell_type": "code",
      "source": [
        "# #Dictionary\n",
        "\n",
        "# new_dic = {\n",
        "#           'Name': 'Abdul Basit',\n",
        "#           'Gender': 'Male',\n",
        "#           'Age' : 23\n",
        "# }\n",
        "\n",
        "# print(new_dic)\n",
        "# #keys\n",
        "# print(new_dic.keys())\n",
        "# #values\n",
        "# print(new_dic.values())\n",
        "# #items\n",
        "# print(new_dic.items())\n",
        "\n",
        "\n",
        "# #get\n",
        "# print(new_dic.get(\"Name\"))\n",
        "\n",
        "# #update\n",
        "\n",
        "# new_dic1 = {\"city\" : \"Islamabad\"}\n",
        "# new_dic2 = {\"Country\": \"Pakistan\"}\n",
        "# new_dic.update(new_dic1)\n",
        "# new_dic.update(new_dic2)\n",
        "# print(new_dic1)\n",
        "# print(new_dic2)\n",
        "\n",
        "\n",
        "# #pop in dictionary\n",
        "# print(new_dic.pop(\"Age\"))\n",
        "# print(new_dic)\n",
        "\n",
        "\n",
        "# #clear\n",
        "\n",
        "# new_dic.clear()\n",
        "# print(new_dic)"
      ],
      "metadata": {
        "id": "78B6qM8sLdOY"
      },
      "execution_count": null,
      "outputs": []
    },
    {
      "cell_type": "markdown",
      "source": [
        "# Tupple Method"
      ],
      "metadata": {
        "id": "boYZhPL7NtOL"
      }
    },
    {
      "cell_type": "code",
      "source": [
        "# prompt: python tupple method\n",
        "\n",
        "my_tuple = (1, 2, 3, 2, 4, 5, 2)\n",
        "my_tuple1 = (1, 2, 3, 2, 4, 5, 2)\n",
        "\n",
        "# count(): Returns the number of times a specified value occurs in a tuple.\n",
        "print(my_tuple.count(2))  # Output: 3\n",
        "\n",
        "# index(): Returns the index of the first occurrence of a specified value.\n",
        "print(my_tuple.index(4)) # Output: 4\n",
        "\n",
        "# Note: Tuples are immutable, so they don't have methods that modify the tuple itself\n",
        "# (like append, insert, remove, etc. that you see with lists).\n",
        "print(my_tuple1.count(5))\n",
        "print(my_tuple1.index(3))"
      ],
      "metadata": {
        "colab": {
          "base_uri": "https://localhost:8080/"
        },
        "id": "cA_82Z5kNse6",
        "outputId": "4c7207bc-2b86-40c8-bfcb-362a13f8cb14"
      },
      "execution_count": null,
      "outputs": [
        {
          "output_type": "stream",
          "name": "stdout",
          "text": [
            "1\n",
            "2\n"
          ]
        }
      ]
    },
    {
      "cell_type": "code",
      "source": [
        "x = 'Welcome'\n",
        "print(x[3:7])"
      ],
      "metadata": {
        "colab": {
          "base_uri": "https://localhost:8080/"
        },
        "id": "n_trXb4X9SAt",
        "outputId": "9857d372-5602-4566-fac2-6adace893523"
      },
      "execution_count": null,
      "outputs": [
        {
          "output_type": "stream",
          "name": "stdout",
          "text": [
            "come\n"
          ]
        }
      ]
    },
    {
      "cell_type": "code",
      "source": [
        "b = \"Hello,World!\" #defination slice\n",
        "print(b[2:6])"
      ],
      "metadata": {
        "colab": {
          "base_uri": "https://localhost:8080/"
        },
        "id": "9lt4ra25hCUA",
        "outputId": "21580443-bb8a-483d-93ec-8cf686b848dc"
      },
      "execution_count": null,
      "outputs": [
        {
          "output_type": "stream",
          "name": "stdout",
          "text": [
            "llo,\n"
          ]
        }
      ]
    }
  ]
}